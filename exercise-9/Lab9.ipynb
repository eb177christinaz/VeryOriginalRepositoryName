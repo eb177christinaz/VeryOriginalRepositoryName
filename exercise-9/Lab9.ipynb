{
 "cells": [
  {
   "cell_type": "markdown",
   "metadata": {},
   "source": [
    "\n",
    "    How many fossils are included in the dataset? (wc -l canid_occ.csv - one line (header)) 2946 fossils\n",
    "    How many fossils have been identified to genus-level only? (tail -n +2 canid_occ.csv | cut -d \",\" -f 7 | grep \"genus\" | wc -l) 614 fossils \n",
    "    How many to species-level? (tail -n +2 canid_occ.csv | cut -d \",\" -f 7 | grep \"species\" | wc -l) 2107 fossils\n",
    "    How many unique accepted names are part of this dataset? (tail -n +2 canid_occ.csv | cut -d \",\" -f 6 | sort | uniq| wc -l) 211 unique accepted names\n",
    "\n"
   ]
  },
  {
   "cell_type": "markdown",
   "metadata": {
    "collapsed": true
   },
   "source": [
    "\n",
    "    How can we change the sampling frequency of our PyRate run? -j 1 (number of data set in input file)\n",
    "    What does the -n flag achieve? running the data with speciations and extinctions for xxxx generations\n",
    "    \n",
    "\n"
   ]
  },
  {
   "cell_type": "markdown",
   "metadata": {
    "collapsed": true
   },
   "source": [
    "    The canid_occ_1_sum.txt file is the text file providing the complete list of settings used in the analysis.\n",
    "    \n",
    "    The canid_occ_1_mcmc.log file is a tab-separated table with the MCMC samples of the posterior, prior, likelihoods of the preservation process and of the birth-death (indicated by PP_lik and BD_lik, respectively), the preservation rate (q_rate), the shape parameter of its gamma-distributed heterogeneity (alpha), the number of sampled rate shifts (k_birth, k_death), the time of origin of the oldest lineage (root_age), the total branch length (tot_length), and the times of speciation and extinction of all taxa in the data set (\\_TS* and \\_TE, respectively). When using the TPP model of preservation, the preservation rates between shifts are indicated as *q_0, q_1, ... q_n (from older to younger).\n",
    "    \n",
    "    The canid_occ_1_marginal_rates.log is a tab-separated table with the posterior samples of the marginal rates of speciation, extinction, and net diversification, calculated within 1 time unit (typically Myr). "
   ]
  },
  {
   "cell_type": "code",
   "execution_count": null,
   "metadata": {
    "collapsed": true
   },
   "outputs": [],
   "source": []
  }
 ],
 "metadata": {
  "anaconda-cloud": {},
  "kernelspec": {
   "display_name": "Python [default]",
   "language": "python",
   "name": "python3"
  },
  "language_info": {
   "codemirror_mode": {
    "name": "ipython",
    "version": 3
   },
   "file_extension": ".py",
   "mimetype": "text/x-python",
   "name": "python",
   "nbconvert_exporter": "python",
   "pygments_lexer": "ipython3",
   "version": "3.5.2"
  }
 },
 "nbformat": 4,
 "nbformat_minor": 2
}
