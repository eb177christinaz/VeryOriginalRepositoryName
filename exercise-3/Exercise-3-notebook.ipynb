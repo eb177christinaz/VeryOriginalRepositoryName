{
 "cells": [
  {
   "cell_type": "code",
   "execution_count": 22,
   "metadata": {
    "collapsed": false
   },
   "outputs": [],
   "source": [
    "a = 3\n",
    "b = 17\n",
    "c=a+b\n",
    "favorite_animal = \"red panda\"\n",
    "favorite_dinners = [\"Chicken Tikka Masala\", \"Mac n cheese\", \"Homemade Chinese food\"]\n",
    "num_fav_dinners = len(favorite_dinners)"
   ]
  },
  {
   "cell_type": "code",
   "execution_count": 80,
   "metadata": {
    "collapsed": false
   },
   "outputs": [
    {
     "name": "stdout",
     "output_type": "stream",
     "text": [
      "What a pleasant temperature\n",
      "Error Message\n"
     ]
    }
   ],
   "source": [
    "def hw3_function(count):\n",
    "    if (type(count)==str):\n",
    "        return (\"Error Message\")\n",
    "    else:\n",
    "        if (count<5):\n",
    "            return \"Brr! It's cold!\"\n",
    "        if (count>25):\n",
    "            return \"It's pretty warm!\"\n",
    "        if (5<count<25):\n",
    "            return (\"What a pleasant temperature\")\n",
    "    \n",
    "print (hw3_function(17))\n",
    "print (hw3_function(\"duck\"))"
   ]
  },
  {
   "cell_type": "code",
   "execution_count": 104,
   "metadata": {
    "collapsed": false
   },
   "outputs": [
    {
     "name": "stdout",
     "output_type": "stream",
     "text": [
      "['GAGC']\n"
     ]
    }
   ],
   "source": [
    "import re\n",
    "DNA=\"ATAATTAACGGAGCTTATTA\"\n",
    "\n",
    "print(re.findall(pattern=\"G[A|T][T|G|A][T|G|C]\",string=DNA))\n",
    "\n",
    "\n"
   ]
  },
  {
   "cell_type": "code",
   "execution_count": 12,
   "metadata": {
    "collapsed": false
   },
   "outputs": [],
   "source": [
    "def rps(symbol):\n",
    "    if (symbol[rock|paper|scissor]):\n",
    "        print(success)\n",
    "\n",
    "#Steps: \n",
    "#if symbol is not rock paper or scissor, then spit out \"Please chose rock paper or scissors and try again\"\n",
    "#else have computer randomly choose between rock paper and scissor with random choice from library of rock, paper, or scissor\n",
    "#if symbol==computer choice is true, then return \"It's a tie!\"\n",
    "#else if player chooses symbol that beats computer choice, return \"+1 for Player!\" (repeat this for the iterations when player beats computer)\n",
    "#else if computer choice beats player symbol, return \"+1 for Computer!\"\n",
    "# $--- can be used for variables and placed in final print script to state what symbols the player and computer used"
   ]
  },
  {
   "cell_type": "code",
   "execution_count": null,
   "metadata": {
    "collapsed": true
   },
   "outputs": [],
   "source": []
  }
 ],
 "metadata": {
  "anaconda-cloud": {},
  "kernelspec": {
   "display_name": "Python [conda root]",
   "language": "python",
   "name": "conda-root-py"
  },
  "language_info": {
   "codemirror_mode": {
    "name": "ipython",
    "version": 3
   },
   "file_extension": ".py",
   "mimetype": "text/x-python",
   "name": "python",
   "nbconvert_exporter": "python",
   "pygments_lexer": "ipython3",
   "version": "3.5.2"
  }
 },
 "nbformat": 4,
 "nbformat_minor": 2
}
