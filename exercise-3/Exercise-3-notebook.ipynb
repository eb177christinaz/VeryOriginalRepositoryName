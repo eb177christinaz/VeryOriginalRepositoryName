{
 "cells": [
  {
   "cell_type": "code",
   "execution_count": 22,
   "metadata": {
    "collapsed": false
   },
   "outputs": [],
   "source": [
    "a = 3\n",
    "b = 17\n",
    "c=a+b\n",
    "favorite_animal = \"red panda\"\n",
    "favorite_dinners = [\"Chicken Tikka Masala\", \"Mac n cheese\", \"Homemade Chinese food\"]\n",
    "num_fav_dinners = len(favorite_dinners)"
   ]
  },
  {
   "cell_type": "code",
   "execution_count": 80,
   "metadata": {
    "collapsed": false
   },
   "outputs": [
    {
     "name": "stdout",
     "output_type": "stream",
     "text": [
      "What a pleasant temperature\n",
      "Error Message\n"
     ]
    }
   ],
   "source": [
    "def hw3_function(count):\n",
    "    if (type(count)==str):\n",
    "        return (\"Error Message\")\n",
    "    else:\n",
    "        if (count<5):\n",
    "            return \"Brr! It's cold!\"\n",
    "        if (count>25):\n",
    "            return \"It's pretty warm!\"\n",
    "        if (5<count<25):\n",
    "            return (\"What a pleasant temperature\")\n",
    "    \n",
    "print (hw3_function(17))\n",
    "print (hw3_function(\"duck\"))"
   ]
  },
  {
   "cell_type": "code",
   "execution_count": 104,
   "metadata": {
    "collapsed": false
   },
   "outputs": [
    {
     "name": "stdout",
     "output_type": "stream",
     "text": [
      "['GAGC']\n"
     ]
    }
   ],
   "source": [
    "import re\n",
    "DNA=\"ATAATTAACGGAGCTTATTA\"\n",
    "\n",
    "print(re.findall(pattern=\"G[A|T][T|G|A][T|G|C]\",string=DNA))\n",
    "\n",
    "\n"
   ]
  },
  {
   "cell_type": "code",
   "execution_count": 31,
   "metadata": {
    "collapsed": false
   },
   "outputs": [
    {
     "data": {
      "text/plain": [
       "'Please enter valid input: Rock, Paper, Scissors'"
      ]
     },
     "execution_count": 31,
     "metadata": {},
     "output_type": "execute_result"
    }
   ],
   "source": [
    "import random \n",
    "\n",
    "def rps(input):\n",
    "    if(input != \"Rock\"or\"Paper\"or\"Scissors\"):\n",
    "          return\"Please enter valid input: Rock, Paper, Scissors\"\n",
    "          computer_options=[\"Rock\",\"Paper\",\"Scissors\"]\n",
    "          output = random.choice(computer_options)\n",
    "    elif(input== output):\n",
    "            return \"You chose\" + input + \"computer chose\" + output + \"It's a Tie!\"\n",
    "    elif(input == \"Rock\" and output == \"Paper\"):\n",
    "            return \"+1 for Computer!\"\n",
    "    elif(input == \"Rock\" and output == \"Scissors\"):\n",
    "            return \"+1 for Player!\"\n",
    "    elif(input ==\"Paper\" and output == \"Rock\"):\n",
    "            return \"+1 for Player!\"\n",
    "    elif(input ==\"Paper\" and output == \"Scissors\"):\n",
    "            return \"+1 for Computer\"\n",
    "    elif(input ==\"Scissors\" and output == \"Rock\"):\n",
    "            return \"+1 for Computer\"\n",
    "    elif(input ==\"Scissors\" and output == \"Paper\"):\n",
    "            return \"+1 for Player\"\n",
    "            \n",
    "            \n",
    "            \n",
    "rps(\"Rock\")"
   ]
  },
  {
   "cell_type": "code",
   "execution_count": null,
   "metadata": {
    "collapsed": true
   },
   "outputs": [],
   "source": []
  }
 ],
 "metadata": {
  "anaconda-cloud": {},
  "kernelspec": {
   "display_name": "Python [conda root]",
   "language": "python",
   "name": "conda-root-py"
  },
  "language_info": {
   "codemirror_mode": {
    "name": "ipython",
    "version": 3
   },
   "file_extension": ".py",
   "mimetype": "text/x-python",
   "name": "python",
   "nbconvert_exporter": "python",
   "pygments_lexer": "ipython3",
   "version": "3.5.2"
  }
 },
 "nbformat": 4,
 "nbformat_minor": 2
}
