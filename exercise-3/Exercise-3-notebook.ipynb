{
 "cells": [
  {
   "cell_type": "code",
   "execution_count": 22,
   "metadata": {
    "collapsed": false
   },
   "outputs": [],
   "source": [
    "a = 3\n",
    "b = 17\n",
    "c=a+b\n",
    "favorite_animal = \"red panda\"\n",
    "favorite_dinners = [\"Chicken Tikka Masala\", \"Mac n cheese\", \"Homemade Chinese food\"]\n",
    "num_fav_dinners = len(favorite_dinners)"
   ]
  },
  {
   "cell_type": "code",
   "execution_count": 80,
   "metadata": {
    "collapsed": false
   },
   "outputs": [
    {
     "name": "stdout",
     "output_type": "stream",
     "text": [
      "What a pleasant temperature\n",
      "Error Message\n"
     ]
    }
   ],
   "source": [
    "def hw3_function(count):\n",
    "    if (type(count)==str):\n",
    "        return (\"Error Message\")\n",
    "    else:\n",
    "        if (count<5):\n",
    "            return \"Brr! It's cold!\"\n",
    "        if (count>25):\n",
    "            return \"It's pretty warm!\"\n",
    "        if (5<count<25):\n",
    "            return (\"What a pleasant temperature\")\n",
    "    \n",
    "print (hw3_function(17))\n",
    "print (hw3_function(\"duck\"))"
   ]
  },
  {
   "cell_type": "code",
   "execution_count": 104,
   "metadata": {
    "collapsed": false
   },
   "outputs": [
    {
     "name": "stdout",
     "output_type": "stream",
     "text": [
      "['GAGC']\n"
     ]
    }
   ],
   "source": [
    "import re\n",
    "DNA=\"ATAATTAACGGAGCTTATTA\"\n",
    "\n",
    "print(re.findall(pattern=\"G[A|T][T|G|A][T|G|C]\",string=DNA))\n",
    "\n",
    "\n"
   ]
  },
  {
   "cell_type": "code",
   "execution_count": 1,
   "metadata": {
    "collapsed": false
   },
   "outputs": [
    {
     "name": "stdout",
     "output_type": "stream",
     "text": [
      "You picked rock; Computer picked scissors; +1 for You!\n",
      "Please select either rock, paper, or scissors.\n"
     ]
    }
   ],
   "source": [
    "import random\n",
    "def rps(user_choice):\n",
    "    computer_choice = random.choice([\"rock\", \"paper\", \"scissors\"])\n",
    "    if (user_choice != \"rock\" and user_choice != \"paper\" and user_choice != \"scissors\"):\n",
    "        print(\"Please select either rock, paper, or scissors.\")\n",
    "    elif (user_choice == computer_choice):\n",
    "        print(\"You picked \" + user_choice + \"; Computer picked \" + computer_choice + \"; this is a tie!\")\n",
    "    elif (user_choice == \"rock\"):\n",
    "        if (computer_choice == \"paper\"):\n",
    "            print(\"You picked \" + user_choice + \"; Computer picked \" + computer_choice + \"; +1 for Computer!\")\n",
    "        else:\n",
    "            print(\"You picked \" + user_choice + \"; Computer picked \" + computer_choice + \"; +1 for You!\")\n",
    "    elif (user_choice == \"paper\"):\n",
    "        if (computer_choice == \"rock\"):\n",
    "            print(\"You picked \" + user_choice + \"; Computer picked \" + computer_choice + \"; +1 for You!\")\n",
    "        else:\n",
    "            print(\"You picked \" + user_choice + \"; Computer picked \" + computer_choice + \"; +1 for Computer!\")\n",
    "    elif (user_choice == \"scissors\"):\n",
    "        if (computer_choice == \"rock\"):\n",
    "            print(\"You picked \" + user_choice + \"; Computer picked \" + computer_choice + \"; +1 for Computer!\")\n",
    "        else:\n",
    "            print(\"You picked \" + user_choice + \"; Computer picked \" + computer_choice + \"; +1 for You!\")\n",
    "\n",
    "rps(\"rock\")\n",
    "rps(\"a\")"
   ]
  },
  {
   "cell_type": "code",
   "execution_count": null,
   "metadata": {
    "collapsed": true
   },
   "outputs": [],
   "source": []
  }
 ],
 "metadata": {
  "anaconda-cloud": {},
  "kernelspec": {
   "display_name": "Python [conda root]",
   "language": "python",
   "name": "conda-root-py"
  },
  "language_info": {
   "codemirror_mode": {
    "name": "ipython",
    "version": 3
   },
   "file_extension": ".py",
   "mimetype": "text/x-python",
   "name": "python",
   "nbconvert_exporter": "python",
   "pygments_lexer": "ipython3",
   "version": "3.5.2"
  }
 },
 "nbformat": 4,
 "nbformat_minor": 2
}
