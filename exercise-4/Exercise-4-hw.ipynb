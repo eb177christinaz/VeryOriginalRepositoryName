{
 "cells": [
  {
   "cell_type": "code",
   "execution_count": 1,
   "metadata": {
    "collapsed": false
   },
   "outputs": [
    {
     "name": "stdout",
     "output_type": "stream",
     "text": [
      "100\n",
      "101\n",
      "102\n",
      "103\n",
      "104\n",
      "105\n",
      "106\n",
      "107\n",
      "108\n",
      "109\n",
      "110\n"
     ]
    }
   ],
   "source": [
    "for number in range(100,111):\n",
    "    print(number)"
   ]
  },
  {
   "cell_type": "code",
   "execution_count": 2,
   "metadata": {
    "collapsed": false
   },
   "outputs": [
    {
     "name": "stdout",
     "output_type": "stream",
     "text": [
      "100\n",
      "101\n",
      "102\n",
      "103\n",
      "104\n",
      "105\n",
      "106\n",
      "107\n",
      "108\n",
      "109\n",
      "110\n",
      "111\n"
     ]
    }
   ],
   "source": [
    "dalmations=99\n",
    "while dalmations<111:\n",
    "    dalmations = dalmations + 1\n",
    "    print (dalmations)"
   ]
  },
  {
   "cell_type": "code",
   "execution_count": 3,
   "metadata": {
    "collapsed": false
   },
   "outputs": [
    {
     "name": "stdout",
     "output_type": "stream",
     "text": [
      "[100, 121, 144, 169, 196, 225]\n"
     ]
    }
   ],
   "source": [
    "digits=10\n",
    "listofsquares=[]\n",
    "while digits<16:\n",
    "    digitsquare=(digits**2)\n",
    "    digits=digits+1\n",
    "    listofsquares.append(digitsquare)\n",
    "\n",
    "print(listofsquares)"
   ]
  },
  {
   "cell_type": "code",
   "execution_count": null,
   "metadata": {
    "collapsed": false
   },
   "outputs": [
    {
     "name": "stdout",
     "output_type": "stream",
     "text": [
      "Scooby is a character in that most glorious of cartoon, Scooby Doo.\n",
      "Shaggy is a character in that most glorious of cartoon, Scooby Doo.\n",
      "Velma is a character in that most glorious of cartoon, Scooby Doo.\n",
      "Daphne is a character in that most glorious of cartoon, Scooby Doo.\n",
      "Fred is a character in that most glorious of cartoon, Scooby Doo.\n"
     ]
    }
   ],
   "source": [
    "characters=[\"Scooby\",\"Shaggy\",\"Velma\",\"Daphne\",\"Fred\"]\n",
    "for icons in characters:\n",
    "    print(str(icons) + \" is a character in that most glorious of cartoon, Scooby Doo.\" )"
   ]
  },
  {
   "cell_type": "code",
   "execution_count": null,
   "metadata": {
    "collapsed": false
   },
   "outputs": [],
   "source": [
    "def fact_or_sum(integer):\n",
    "    if (type(integer) == str):\n",
    "        return \"Error! Please enter a number.\"\n",
    "    else:\n",
    "        if (integer == 0):\n",
    "            return \"0\"\n",
    "        if (integer%2 == 1):\n",
    "            factorial=1\n",
    "            for number in (range(integer,0,-1)):\n",
    "                factorial = factorial*number\n",
    "            return factorial\n",
    "        if (integer%2 == 0):\n",
    "            total=0\n",
    "            while integer>0:\n",
    "                total = total + integer\n",
    "                interger = integer-1\n",
    "            return total\n",
    "\n",
    "print(fact_or_sum(0))\n",
    "print(fact_or_sum(2))\n",
    "print(fact_or_sum(3))\n",
    "print(fact_or_sum(\"avocado\"))\n"
   ]
  },
  {
   "cell_type": "code",
   "execution_count": null,
   "metadata": {
    "collapsed": true
   },
   "outputs": [],
   "source": []
  }
 ],
 "metadata": {
  "anaconda-cloud": {},
  "kernelspec": {
   "display_name": "Python [conda root]",
   "language": "python",
   "name": "conda-root-py"
  },
  "language_info": {
   "codemirror_mode": {
    "name": "ipython",
    "version": 3
   },
   "file_extension": ".py",
   "mimetype": "text/x-python",
   "name": "python",
   "nbconvert_exporter": "python",
   "pygments_lexer": "ipython3",
   "version": "3.5.2"
  }
 },
 "nbformat": 4,
 "nbformat_minor": 2
}
